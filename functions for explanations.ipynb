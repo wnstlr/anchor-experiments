{
 "cells": [
  {
   "cell_type": "code",
   "execution_count": 1,
   "metadata": {
    "collapsed": true
   },
   "outputs": [],
   "source": [
    "import pickle\n",
    "import numpy as np\n",
    "import matplotlib.pyplot as plt\n",
    "from sklearn.datasets import make_moons\n",
    "from sklearn.model_selection import train_test_split\n",
    "from sklearn.preprocessing import StandardScaler\n",
    "import utils\n",
    "import anchor_tabular"
   ]
  },
  {
   "cell_type": "code",
   "execution_count": 2,
   "metadata": {
    "collapsed": true
   },
   "outputs": [],
   "source": [
    "\n",
    "moons_anchor = pickle.load(open('out_pickles/moons-anchor-svm', 'rb'))#, encoding='latin1')\n",
    "moons_lime = pickle.load(open('out_pickles/moons-lime-svm', 'rb'))#, encoding='latin1')\n",
    "\n",
    "X, y = make_moons(noise=0.3, random_state=0)\n",
    "X = StandardScaler().fit_transform(X)\n",
    "    #X[:, 0] *= 10\n",
    "X_train, X_test, y_train, y_test = \\\n",
    "        train_test_split(X, y, test_size=.4, random_state=42)\n"
   ]
  },
  {
   "cell_type": "code",
   "execution_count": 3,
   "metadata": {},
   "outputs": [
    {
     "data": {
      "text/plain": [
       "SVC(C=1, cache_size=200, class_weight=None, coef0=0.0,\n",
       "  decision_function_shape='ovr', degree=3, gamma=2, kernel='rbf',\n",
       "  max_iter=-1, probability=True, random_state=None, shrinking=True,\n",
       "  tol=0.001, verbose=False)"
      ]
     },
     "execution_count": 3,
     "metadata": {},
     "output_type": "execute_result"
    }
   ],
   "source": [
    "moons_lime['model']"
   ]
  },
  {
   "cell_type": "code",
   "execution_count": 6,
   "metadata": {},
   "outputs": [],
   "source": [
    "# Load the dataset (already discretized)\n",
    "dataset = utils.load_dataset('moons')"
   ]
  },
  {
   "cell_type": "code",
   "execution_count": 7,
   "metadata": {},
   "outputs": [],
   "source": [
    "exps = moons_lime['exps']\n",
    "data_exps = dataset.data[moons_lime['validation_idx']]\n"
   ]
  },
  {
   "cell_type": "code",
   "execution_count": 33,
   "metadata": {},
   "outputs": [
    {
     "data": {
      "text/plain": [
       "['x1', 'x2']"
      ]
     },
     "execution_count": 33,
     "metadata": {},
     "output_type": "execute_result"
    }
   ],
   "source": [
    "dataset.feature_names"
   ]
  },
  {
   "cell_type": "code",
   "execution_count": 34,
   "metadata": {},
   "outputs": [
    {
     "data": {
      "text/plain": [
       "array([[2., 1.],\n",
       "       [3., 1.],\n",
       "       [2., 0.],\n",
       "       [1., 1.],\n",
       "       [3., 2.],\n",
       "       [0., 3.],\n",
       "       [3., 2.],\n",
       "       [3., 1.],\n",
       "       [2., 3.],\n",
       "       [0., 2.],\n",
       "       [3., 0.],\n",
       "       [0., 1.],\n",
       "       [1., 2.],\n",
       "       [3., 2.],\n",
       "       [3., 1.],\n",
       "       [3., 1.],\n",
       "       [0., 1.],\n",
       "       [1., 2.],\n",
       "       [2., 0.],\n",
       "       [1., 2.],\n",
       "       [1., 1.],\n",
       "       [0., 3.],\n",
       "       [3., 2.],\n",
       "       [0., 3.],\n",
       "       [0., 2.],\n",
       "       [2., 0.],\n",
       "       [2., 3.],\n",
       "       [0., 2.],\n",
       "       [2., 2.],\n",
       "       [0., 2.],\n",
       "       [0., 1.],\n",
       "       [1., 1.],\n",
       "       [0., 1.],\n",
       "       [2., 0.],\n",
       "       [1., 3.],\n",
       "       [2., 1.],\n",
       "       [1., 1.],\n",
       "       [2., 2.],\n",
       "       [1., 1.],\n",
       "       [3., 2.],\n",
       "       [2., 1.],\n",
       "       [0., 3.],\n",
       "       [1., 3.],\n",
       "       [0., 1.],\n",
       "       [0., 3.],\n",
       "       [2., 1.],\n",
       "       [1., 2.],\n",
       "       [2., 3.],\n",
       "       [1., 3.],\n",
       "       [3., 0.],\n",
       "       [0., 2.],\n",
       "       [2., 3.],\n",
       "       [0., 3.],\n",
       "       [1., 0.],\n",
       "       [2., 0.],\n",
       "       [1., 0.],\n",
       "       [3., 3.],\n",
       "       [2., 2.],\n",
       "       [1., 1.],\n",
       "       [1., 2.],\n",
       "       [3., 1.],\n",
       "       [3., 1.],\n",
       "       [3., 0.],\n",
       "       [0., 3.],\n",
       "       [0., 2.],\n",
       "       [3., 1.],\n",
       "       [0., 0.],\n",
       "       [2., 2.],\n",
       "       [0., 3.],\n",
       "       [1., 3.],\n",
       "       [3., 1.],\n",
       "       [1., 3.],\n",
       "       [2., 0.],\n",
       "       [3., 0.],\n",
       "       [3., 3.],\n",
       "       [1., 0.],\n",
       "       [3., 2.],\n",
       "       [0., 1.],\n",
       "       [3., 0.],\n",
       "       [1., 2.]])"
      ]
     },
     "execution_count": 34,
     "metadata": {},
     "output_type": "execute_result"
    }
   ],
   "source": [
    "dataset.train"
   ]
  },
  {
   "cell_type": "code",
   "execution_count": 9,
   "metadata": {
    "collapsed": true
   },
   "outputs": [],
   "source": [
    "#import pickle\n",
    "import numpy as np\n",
    "#import matplotlib.pyplot as plt\n",
    "#from sklearn.datasets import make_moons\n",
    "#from sklearn.model_selection import train_test_split\n",
    "#from sklearn.preprocessing import StandardScaler\n",
    "import utils\n",
    "import anchor_tabular\n",
    "\n",
    "\n",
    "# Create the dataset discretized, and the split for test and training are all done inside here\n",
    "dataset = utils.load_dataset('moons')\n",
    "\n",
    "# Define the discretizer on the WHOLE data, not just train. It can be done by calling it from the dataset loaded.\n",
    "disc = dataset.disc\n",
    "\n",
    "# Define the explainer object that the anchor and lime will use\n",
    "explainer_obj = anchor_tabular.AnchorTabularExplainer(dataset.class_names, \\\n",
    "                                                          dataset.feature_names, \\\n",
    "                                                          dataset.data, \\\n",
    "                                                          dataset.categorical_names)\n",
    "explainer_obj.fit(dataset.train, dataset.labels_train, dataset.validation, dataset.labels_validation)\n",
    "\n",
    "\n",
    "def get_lime_explanation_fn(clf, x_0, disc, explainer_obj):\n",
    "    \"\"\"\n",
    "    Returns a function that takes in a data point (in the ORIGINAL space) that spits out the explanations\n",
    "    \n",
    "    params: clf the classifier we want to explain\n",
    "    params: x_0 the center point\n",
    "    params: disc the discretization method to use (can be the ones from lime API)\n",
    "    params: explainer object that is required for lime and anchor explanation\n",
    "    \n",
    "    output: a function that takes in a data point (in the ORIGINAL space) that spits out the explanations\n",
    "    \"\"\"\n",
    "   \n",
    "    x_0_disc = disc.discretize(x_0)\n",
    "    \n",
    "    explain_fn = utils.get_reduced_explain_fn(explainer_obj.explain_lime, clf.predict_proba, num_features=5, use_same_dist=True)\n",
    "    exp = explain_fn(x_0_disc)\n",
    "    intercept = exp['intercept']\n",
    "    \n",
    "    def g(x):\n",
    "        x_tilde = disc.discretize(x)\n",
    "        weights = []\n",
    "        for f in exp['as_map']:\n",
    "            weights.append(exp['as_map'][f])\n",
    "        scores = np.dot(x_tilde, np.array(weights)) + intercept\n",
    "        if scores > 0:\n",
    "            return 1\n",
    "        else:\n",
    "            return 0\n",
    "    return g\n",
    "    \n",
    "    "
   ]
  },
  {
   "cell_type": "code",
   "execution_count": 83,
   "metadata": {},
   "outputs": [],
   "source": [
    "def get_anchor_explanation_fn(f, x_center, disc, explainer_obj):\n",
    "    threshold = 0.95\n",
    "    tau = 0.1\n",
    "    delta = 0.05\n",
    "    epsilon_stop = 0.05\n",
    "    batch_size = 100\n",
    "    explain_fn = utils.get_reduced_explain_fn(\n",
    "        explainer_obj.explain_lucb_beam, f.predict, threshold=threshold,\n",
    "        delta=delta, tau=tau, batch_size=batch_size / 2,\n",
    "        sample_whole_instances=True,\n",
    "        beam_size=10, epsilon_stop=epsilon_stop)\n",
    "    x_center_tilde = disc.discretize(x_center)\n",
    "    g_tilde = explain_fn(x_center_tilde) #explain_fn = explain_lucb_beam - k=line 254 in anchor_tabular;#g_tilde = anchor_base.AnchorBaseBeam.anchor_beam = exp\n",
    "    explanations = [g_tilde]\n",
    "    #print x_center_tilde, x_center\n",
    "    explanations_data = [x_center_tilde]\n",
    "    x_center_tilde_onehot = explainer_obj.encoder.transform(x_center_tilde.reshape(-1,2))\n",
    "    explanation_preds = f.predict(x_center_tilde_onehot)\n",
    "    print g_tilde\n",
    "    \n",
    "    def g(x):\n",
    "        x_tilde = disc.discretize(x)\n",
    "        dataset = x_tilde\n",
    "   \n",
    "        covered = {}\n",
    "        for i, (exp, d) in enumerate(zip(explanations, explanations_data)):\n",
    "            fs = []\n",
    "            for f, p in zip(exp['feature'], exp['precision']):\n",
    "                fs.append(f)\n",
    "                if p >= threshold:\n",
    "                    break\n",
    "            fs = np.array(fs)\n",
    "            covered[i] = set(np.all(dataset[fs] == d[fs]).nonzero()[0])\n",
    "\n",
    "        votes = []\n",
    "        for j in covered:\n",
    "            if i in covered[j]:\n",
    "                votes.append(explanation_preds[j])\n",
    "        if votes:\n",
    "            print votes\n",
    "            return np.random.choice(votes)\n",
    "        else:\n",
    "            return None\n",
    "    return g"
   ]
  },
  {
   "cell_type": "code",
   "execution_count": 84,
   "metadata": {},
   "outputs": [
    {
     "name": "stdout",
     "output_type": "stream",
     "text": [
      "{'names': ['x2 > 0.66', '-0.14 < x1 <= 0.47'], 'feature': [1, 0], 'precision': [0.8235294117647058, 1.0], 'num_preds': 500001, 'examples': [{'covered': array([[2., 3.],\n",
      "       [2., 3.],\n",
      "       [2., 3.],\n",
      "       [1., 3.],\n",
      "       [2., 3.],\n",
      "       [3., 3.],\n",
      "       [2., 3.],\n",
      "       [2., 3.],\n",
      "       [2., 3.],\n",
      "       [2., 3.]]), 'uncovered_true': array([], dtype=float64), 'covered_true': array([[0., 3.],\n",
      "       [1., 3.],\n",
      "       [1., 3.],\n",
      "       [2., 3.],\n",
      "       [1., 3.],\n",
      "       [2., 3.],\n",
      "       [1., 3.],\n",
      "       [1., 3.],\n",
      "       [2., 3.],\n",
      "       [2., 3.]]), 'uncovered_false': array([], dtype=float64), 'covered_false': array([[3., 3.],\n",
      "       [3., 3.],\n",
      "       [3., 3.],\n",
      "       [3., 3.],\n",
      "       [3., 3.],\n",
      "       [3., 3.],\n",
      "       [3., 3.],\n",
      "       [3., 3.],\n",
      "       [3., 3.]])}, {'covered': array([[1., 3.],\n",
      "       [1., 3.],\n",
      "       [1., 3.],\n",
      "       [1., 3.],\n",
      "       [1., 3.],\n",
      "       [1., 3.],\n",
      "       [1., 3.],\n",
      "       [1., 3.],\n",
      "       [1., 3.],\n",
      "       [1., 3.]]), 'uncovered_true': array([], dtype=float64), 'covered_true': array([[1., 3.],\n",
      "       [1., 3.],\n",
      "       [1., 3.],\n",
      "       [1., 3.],\n",
      "       [1., 3.],\n",
      "       [1., 3.],\n",
      "       [1., 3.],\n",
      "       [1., 3.],\n",
      "       [1., 3.],\n",
      "       [1., 3.]]), 'uncovered_false': array([], dtype=float64), 'covered_false': array([], shape=(0, 2), dtype=float64)}], 'coverage': [0.3022, 0.2024], 'all_precision': 0, 'mean': [0.8235294117647058, 1.0]}\n",
      "[0]\n"
     ]
    },
    {
     "data": {
      "image/png": "[encoded data removed]",
      "text/plain": [
       "<matplotlib.figure.Figure at 0x7f8d39b13f50>"
      ]
     },
     "metadata": {},
     "output_type": "display_data"
    }
   ],
   "source": [
    "clf = moons_lime['model']\n",
    "clf = moons_anchor['model']\n",
    "x_0 = dataset.data[moons_lime['validation_idx'][2]]\n",
    "#g = get_lime_explanation_fn(clf, x_0, disc, explainer_obj)\n",
    "g = get_anchor_explanation_fn(clf, x_0, disc, explainer_obj)\n",
    "\n",
    "for i in moons_lime['test_idx']:\n",
    "    test_point = dataset.data[i]\n",
    "    plt.scatter(X[:,0], X[:,1], c=y)\n",
    "    plt.scatter(x_0[0], x_0[1], marker='x')\n",
    "    correct = g(test_point) == dataset.labels[i]\n",
    "    if correct:\n",
    "        plt.scatter(test_point[0], test_point[1], marker='*', c='b')\n",
    "    else:\n",
    "        plt.scatter(test_point[0], test_point[1], marker='*', c='r')\n",
    "        \n",
    "plt.show()\n",
    "    "
   ]
  },
  {
   "cell_type": "code",
   "execution_count": null,
   "metadata": {
    "collapsed": true
   },
   "outputs": [],
   "source": []
  },
  {
   "cell_type": "code",
   "execution_count": null,
   "metadata": {
    "collapsed": true
   },
   "outputs": [],
   "source": []
  }
 ],
 "metadata": {
  "kernelspec": {
   "display_name": "Python 2",
   "language": "python",
   "name": "python2"
  },
  "language_info": {
   "codemirror_mode": {
    "name": "ipython",
    "version": 2
   },
   "file_extension": ".py",
   "mimetype": "text/x-python",
   "name": "python",
   "nbconvert_exporter": "python",
   "pygments_lexer": "ipython2",
   "version": "2.7.13"
  }
 },
 "nbformat": 4,
 "nbformat_minor": 2
}
